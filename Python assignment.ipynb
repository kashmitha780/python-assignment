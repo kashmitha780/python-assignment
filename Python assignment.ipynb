{
 "cells": [
  {
   "cell_type": "raw",
   "id": "af81b5c6-3e60-47fb-a949-20d8421d28ac",
   "metadata": {},
   "source": [
    "1. Explain the key features of Python that make it a popular choice for programming.\n",
    "A.Free and open source:\n",
    "     it is easliy avialable at the official website and we can acess it since it is open source. \n",
    "B. Easy to code:\n",
    "     python is a high level programming language it is very easy to learn the language as compared to others languages.\n",
    "C. High level language: \n",
    "     when we write programes in python,we dont need to remember the system architecture,nor do we need to manag the memory.\n",
    "D. Large community support:\n",
    "     it has gained popularity over the years hence it has the large community to access the python.\n",
    "E. Interpreted language:\n",
    "      its because python code is executed line by line at a time. \n",
    "    "
   ]
  },
  {
   "cell_type": "raw",
   "id": "4bba4c0c-5593-444e-a3f3-1f284bae9a1c",
   "metadata": {},
   "source": [
    "2. Describe the role of predefined keywords in python and provide examples of how they are used in a program. \n",
    "A. predefined keywords cantnot be used as identifiers.\n",
    "B. keywords are reserved words in the python which have a special meanings."
   ]
  },
  {
   "cell_type": "code",
   "execution_count": 3,
   "id": "0b06e16b-2724-4815-936c-7d1ac48a14d0",
   "metadata": {},
   "outputs": [
    {
     "name": "stdout",
     "output_type": "stream",
     "text": [
      "i love reading\n"
     ]
    }
   ],
   "source": [
    "#example1\n",
    "#print it is the general word to print the output in the dispaly\n",
    "\n",
    "print(\"i love reading\")"
   ]
  },
  {
   "cell_type": "code",
   "execution_count": null,
   "id": "f59bfb7b-f73d-469a-8973-7b778ee35269",
   "metadata": {},
   "outputs": [],
   "source": []
  },
  {
   "cell_type": "code",
   "execution_count": 13,
   "id": "80bbc858-188a-42eb-8000-43b071bb2fc4",
   "metadata": {},
   "outputs": [
    {
     "name": "stdout",
     "output_type": "stream",
     "text": [
      "the number is positive\n"
     ]
    }
   ],
   "source": [
    "#example2\n",
    "#conditionals keywords\n",
    "#if, are uesed to make if condtion statment,they are used for multiple statment\n",
    "num = 5 \n",
    "if num > 0:\n",
    "    print(\"the number is positive\") "
   ]
  },
  {
   "cell_type": "code",
   "execution_count": 6,
   "id": "b96b02ee-378d-400b-8909-b93e9d6fe75a",
   "metadata": {},
   "outputs": [
    {
     "name": "stdout",
     "output_type": "stream",
     "text": [
      "True\n"
     ]
    }
   ],
   "source": [
    "#example3 boalean values >> they are used to check whether the statment is ture or false\n",
    "a = 10\n",
    "b = 7\n",
    "print(a>b)"
   ]
  },
  {
   "cell_type": "code",
   "execution_count": 7,
   "id": "66fc4043-87fa-403b-bba5-4d77bf4d8111",
   "metadata": {},
   "outputs": [
    {
     "name": "stdout",
     "output_type": "stream",
     "text": [
      "False\n"
     ]
    }
   ],
   "source": [
    "a = 10\n",
    "b = 7\n",
    "print(a<b)"
   ]
  },
  {
   "cell_type": "raw",
   "id": "19bb2078-8900-4fa7-9162-7c13e327d1cf",
   "metadata": {},
   "source": [
    "3. Compare and contrast mutable and immutable objects in python with examples.\n",
    "A.Mutable object:\n",
    "  objects or container whose value can be changed after they are created. \n",
    "  list and dictionaries can be modified.\n",
    "  list is type of mutable object which support team assigment.\n",
    "B.Immutable object:\n",
    "   objects or container whose vale cannot be chaged. \n",
    "   string and tuple cannot be modified.\n",
    "   string is the type of immutable object which cannot support the team assigement."
   ]
  },
  {
   "cell_type": "code",
   "execution_count": 8,
   "id": "b46bc904-934e-4dbe-8f5a-cb80a0ed14a3",
   "metadata": {},
   "outputs": [
    {
     "data": {
      "text/plain": [
       "[1, 2, 3, 4.3, True, 'data science']"
      ]
     },
     "execution_count": 8,
     "metadata": {},
     "output_type": "execute_result"
    }
   ],
   "source": [
    "#example of mutable object\n",
    "list_cont = [ 1, 2, 3, 4.3, True, \"data science\"] \n",
    "list_cont"
   ]
  },
  {
   "cell_type": "code",
   "execution_count": null,
   "id": "9355da6d-c08f-42d5-bd0f-c39f81607666",
   "metadata": {},
   "outputs": [],
   "source": [
    "list_cont[6] = \"data analytics\""
   ]
  },
  {
   "cell_type": "code",
   "execution_count": 9,
   "id": "a7a26a7a-2894-4b5c-914a-39664736de42",
   "metadata": {},
   "outputs": [
    {
     "data": {
      "text/plain": [
       "[1, 2, 3, 4.3, True, 'data science']"
      ]
     },
     "execution_count": 9,
     "metadata": {},
     "output_type": "execute_result"
    }
   ],
   "source": [
    "list_cont"
   ]
  },
  {
   "cell_type": "code",
   "execution_count": 10,
   "id": "df8437cd-e747-4973-b6ef-9648f9d748c3",
   "metadata": {},
   "outputs": [
    {
     "data": {
      "text/plain": [
       "'data science'"
      ]
     },
     "execution_count": 10,
     "metadata": {},
     "output_type": "execute_result"
    }
   ],
   "source": [
    "#example of immutable object\n",
    "a = \"data science\"\n",
    "a"
   ]
  },
  {
   "cell_type": "code",
   "execution_count": 11,
   "id": "337deeec-ff63-4a92-a411-ffd7379b688c",
   "metadata": {},
   "outputs": [
    {
     "ename": "TypeError",
     "evalue": "'str' object does not support item assignment",
     "output_type": "error",
     "traceback": [
      "\u001b[0;31m---------------------------------------------------------------------------\u001b[0m",
      "\u001b[0;31mTypeError\u001b[0m                                 Traceback (most recent call last)",
      "Cell \u001b[0;32mIn[11], line 1\u001b[0m\n\u001b[0;32m----> 1\u001b[0m \u001b[43ma\u001b[49m\u001b[43m[\u001b[49m\u001b[38;5;241;43m0\u001b[39;49m\u001b[43m]\u001b[49m \u001b[38;5;241m=\u001b[39m \u001b[38;5;124m\"\u001b[39m\u001b[38;5;124md\u001b[39m\u001b[38;5;124m\"\u001b[39m\n",
      "\u001b[0;31mTypeError\u001b[0m: 'str' object does not support item assignment"
     ]
    }
   ],
   "source": [
    "a[0] = \"d\"#we cannot modify in immutable object it show the error"
   ]
  },
  {
   "cell_type": "raw",
   "id": "04aa4cf7-6aba-4444-ab9d-4d54559a803d",
   "metadata": {
    "tags": []
   },
   "source": [
    "4. Discuss the different types of operators in python and provide exampes of how they are used.\n",
    "ans. Operators are the special keywords or symbole which are used to perform operations or value or variable.\n",
    " they are different types of operators are :\n",
    "A. Arithmetic operators:\n",
    "      mathematical operation including addition, subtraction, multiplication, and division are commcarried out using             python. \n",
    "    eg:+,-,*,/\n",
    "B. Comparison operators:to compare two values,based on the comprasion it produces the boolean value(==,!=,<,>,<=,>=).\n",
    "    ef: 4==5 is not true\n",
    "        4!=5 is ture \n",
    "C. Logical operators:\n",
    "       they are used to compose boolean expression and evaluate thier truth values.\n",
    "       eg: AND(&),OR(|), XOR(^) \n",
    "D. Bitwise operators:\n",
    "      it excute operations on individual bits of binary integers, they work with integers binary represtation.\n",
    "E. Assignment operators:\n",
    "      they are used to assign values to variables in python.\n",
    "      eg: a=10, \n",
    "          a+=5\n",
    "F. Membership identiy operators:\n",
    "       they are used to determine whether or not a certain value occurs within a sequence, they make it simple to determine the membership of the elements in various data structures.\n",
    "       eg: x in y,\n",
    "           x not in y "
   ]
  },
  {
   "cell_type": "raw",
   "id": "8cdf5d58-813f-4264-9618-9133cae38011",
   "metadata": {},
   "source": [
    "5. Explain the concept of type casting in python with examples.\n",
    "Ans. Type casting is the metod to covert the python variable datatype into certain dat type in order to perform the required operation by the users .Type casting is often necessary for performng arithmetic operations,and input/output in python programing.\n",
    "  examples of type casting:\n",
    "1. int():\n",
    "    it takes floaat or string as an argument and returns int type obejct.\n",
    "2. float():\n",
    "     function take int or string as an argument and retrun float type object.\n",
    "3. str():\n",
    "    function takes float or int aas an argument and retruns strinf type objct."
   ]
  },
  {
   "cell_type": "raw",
   "id": "7ce8c2a6-499c-4087-baa3-5c50d1772919",
   "metadata": {},
   "source": [
    "6. How do conditional staetments works in python?illustrate with examples.\n",
    "Ans.  Conditional statements are an esstional part of programminf in python. thy allow us to make decision based on the values of variables or thr result of compraison. They are eused to excute code based on the evalution of one or more conditiocan. They can be nested to handle multiple conditons and control diffrent branches of excution based on the outcome of the logical expressions. \n",
    "its supports conditional statments such as if, elif, else to control the flow of excution.\n",
    "Exampes:\n",
    "1.if :\n",
    "   if\"\" ststement is used to test a specific condition. If the conditon is true, a block of code is excuted.\n",
    "2.elif:\n",
    "    the \"elif\" keyword is python way of saying \"if the previous conditions were not ture,then try this condition\".\n",
    "3.else:\n",
    "     the \"else\" statement is excuted when the expression in the if conditions is false."
   ]
  },
  {
   "cell_type": "code",
   "execution_count": 12,
   "id": "3190c37e-0a35-4dcc-9482-fa487c729a79",
   "metadata": {},
   "outputs": [
    {
     "name": "stdout",
     "output_type": "stream",
     "text": [
      "grade C\n"
     ]
    }
   ],
   "source": [
    "#example\n",
    "score = 60\n",
    "if score >= 95:\n",
    "    print(\"grade A\")\n",
    "elif (75<=score<90):\n",
    "    print(\"grade B\")\n",
    "elif (60<=score<80):\n",
    "    print(\"grade C\")\n",
    "else:\n",
    "    print(\"grade D\")"
   ]
  },
  {
   "cell_type": "raw",
   "id": "9a5623cb-c49c-485b-8d05-441fa321689a",
   "metadata": {},
   "source": [
    "7. Describes the diffrent types of loops in python and thier use cases with examples.\n",
    "Ans. Loops is an instruction that repets multiple times as long some condition is fulfilled.\n",
    " There are mainly two type of loops:\n",
    "1. For loop:\n",
    "     a for loop in python is used to iterate over a sequence (list, tuples, set, string, and dictionary).\n",
    "2. While loop:\n",
    "     The whie loop is used to excute a set of statmnts as long as a condition is true."
   ]
  },
  {
   "cell_type": "code",
   "execution_count": 14,
   "id": "10b95704-0c1a-494d-977b-c5d4d2bb0c4c",
   "metadata": {},
   "outputs": [
    {
     "name": "stdout",
     "output_type": "stream",
     "text": [
      "curd\n",
      "milk\n",
      "sugar\n"
     ]
    }
   ],
   "source": [
    "#exampe for loop\n",
    "x = [\"curd\", \"milk\", \"sugar\"] \n",
    "for i in x:\n",
    "    print(i)"
   ]
  },
  {
   "cell_type": "code",
   "execution_count": 15,
   "id": "2f21e360-1308-4433-8bc2-22a638bf4012",
   "metadata": {},
   "outputs": [
    {
     "name": "stdout",
     "output_type": "stream",
     "text": [
      "1\n",
      "2\n"
     ]
    }
   ],
   "source": [
    "#example while loop\n",
    "x = 1\n",
    "while x<3:\n",
    "    print(x)\n",
    "    x = x+1\n",
    "        "
   ]
  }
 ],
 "metadata": {
  "kernelspec": {
   "display_name": "Python 3 (ipykernel)",
   "language": "python",
   "name": "python3"
  },
  "language_info": {
   "codemirror_mode": {
    "name": "ipython",
    "version": 3
   },
   "file_extension": ".py",
   "mimetype": "text/x-python",
   "name": "python",
   "nbconvert_exporter": "python",
   "pygments_lexer": "ipython3",
   "version": "3.10.8"
  }
 },
 "nbformat": 4,
 "nbformat_minor": 5
}
